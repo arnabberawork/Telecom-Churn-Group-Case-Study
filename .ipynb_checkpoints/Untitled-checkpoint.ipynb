{
 "cells": [
  {
   "cell_type": "code",
   "execution_count": 6,
   "id": "5be7b3b4",
   "metadata": {},
   "outputs": [],
   "source": [
    "# Initialize models dict\n",
    "models = {\n",
    "    \"Logistic Regression\": \"lr_best_fit\",\n",
    "    \"Decision Tree\": \"dt_best\",\n",
    "    \"Random Forest\": \"rf_best\"\n",
    "}"
   ]
  },
  {
   "cell_type": "code",
   "execution_count": 9,
   "id": "16c66a30",
   "metadata": {
    "scrolled": false
   },
   "outputs": [
    {
     "name": "stdout",
     "output_type": "stream",
     "text": [
      "model_name              Random Forest\n",
      "Train accuracy_score             0.86\n",
      "Test accuracy_score              0.85\n",
      "Mean accuracy_score             0.855\n",
      "Name: 2, dtype: object\n",
      "Random Forest\n",
      "rf_best\n"
     ]
    }
   ],
   "source": [
    "import pandas as pd\n",
    "\n",
    "# Example DataFrame\n",
    "data = {\n",
    "    'model_name': ['Logistic Regression', 'Decision Tree', 'Random Forest'],\n",
    "    'Train accuracy_score': [0.85, 0.86, 0.86],\n",
    "    'Test accuracy_score': [0.82, 0.80, 0.85],\n",
    "    'Mean accuracy_score': [0.835, 0.830, 0.855]\n",
    "}\n",
    "\n",
    "df = pd.DataFrame(data)\n",
    "\n",
    "# Find the row with the maximum mean accuracy score\n",
    "max_mean_accuracy = df.loc[df['Mean accuracy_score'].idxmax()]\n",
    "\n",
    "print(max_mean_accuracy)\n",
    "\n",
    "print(df.loc[df['Mean accuracy_score'].idxmax()][\"model_name\"])\n",
    "\n",
    "print(models[df.loc[df['Mean accuracy_score'].idxmax()][\"model_name\"]])"
   ]
  },
  {
   "cell_type": "code",
   "execution_count": null,
   "id": "05c7ae0b",
   "metadata": {},
   "outputs": [],
   "source": []
  }
 ],
 "metadata": {
  "kernelspec": {
   "display_name": "Python 3 (ipykernel)",
   "language": "python",
   "name": "python3"
  },
  "language_info": {
   "codemirror_mode": {
    "name": "ipython",
    "version": 3
   },
   "file_extension": ".py",
   "mimetype": "text/x-python",
   "name": "python",
   "nbconvert_exporter": "python",
   "pygments_lexer": "ipython3",
   "version": "3.11.5"
  }
 },
 "nbformat": 4,
 "nbformat_minor": 5
}
