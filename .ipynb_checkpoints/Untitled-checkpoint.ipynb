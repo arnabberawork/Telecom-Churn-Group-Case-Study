{
 "cells": [
  {
   "cell_type": "code",
   "execution_count": 1,
   "id": "3ccd53af",
   "metadata": {},
   "outputs": [],
   "source": [
    "import pandas as pd"
   ]
  },
  {
   "cell_type": "code",
   "execution_count": null,
   "id": "f757875f",
   "metadata": {},
   "outputs": [],
   "source": [
    "model_summary=pd.DataFrame({\"model_name\":,\"Train accuracy_score\": , \"Test acuracy score\"})"
   ]
  },
  {
   "cell_type": "code",
   "execution_count": null,
   "id": "5b85ded3",
   "metadata": {},
   "outputs": [],
   "source": [
    "# Initialize models\n",
    "models = {\n",
    "    \"Logistic Regression\": lr_best_fit,\n",
    "    \"Decision Tree\": dt_best,\n",
    "    \"Random Forest\": rf_best\n",
    "}\n",
    "\n",
    "# Predict, and calculate accuracy\n",
    "for name, model in models.items():\n",
    "    y_train_pred = model.predict(X_train)\n",
    "    y_test_pred = model.predict(X_test)\n",
    "    \n",
    "    # Append model name and accuracies to respective lists\n",
    "    model_names.append(name)\n",
    "    train_accuracies.append(accuracy_score(y_train, y_train_pred))\n",
    "    test_accuracies.append(accuracy_score(y_test, y_test_pred))\n",
    "\n",
    "# Create the DataFrame\n",
    "model_summary = pd.DataFrame({\n",
    "    \"model_name\": model_names,\n",
    "    \"Train accuracy_score\": train_accuracies,\n",
    "    \"Test accuracy_score\": test_accuracies\n",
    "})\n",
    "\n",
    "# Display the DataFrame\n",
    "print(model_summary)"
   ]
  },
  {
   "cell_type": "code",
   "execution_count": null,
   "id": "f0709fc6",
   "metadata": {},
   "outputs": [],
   "source": []
  }
 ],
 "metadata": {
  "kernelspec": {
   "display_name": "Python 3 (ipykernel)",
   "language": "python",
   "name": "python3"
  },
  "language_info": {
   "codemirror_mode": {
    "name": "ipython",
    "version": 3
   },
   "file_extension": ".py",
   "mimetype": "text/x-python",
   "name": "python",
   "nbconvert_exporter": "python",
   "pygments_lexer": "ipython3",
   "version": "3.11.5"
  }
 },
 "nbformat": 4,
 "nbformat_minor": 5
}
